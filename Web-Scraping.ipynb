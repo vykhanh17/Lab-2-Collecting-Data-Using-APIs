{
 "cells": [
  {
   "cell_type": "code",
   "execution_count": 1,
   "id": "707b7175-069c-4e9d-97bd-393bdd8a01fc",
   "metadata": {
    "tags": []
   },
   "outputs": [
    {
     "name": "stdout",
     "output_type": "stream",
     "text": [
      "     Language Average Annual Salary\n",
      "0      Python              $114,383\n",
      "1        Java              $101,013\n",
      "2           R               $92,037\n",
      "3  Javascript              $110,981\n",
      "4       Swift              $130,801\n",
      "5         C++              $113,865\n",
      "6          C#               $88,726\n",
      "7         PHP               $84,727\n",
      "8         SQL               $84,793\n",
      "9          Go               $94,082\n"
     ]
    }
   ],
   "source": [
    "import requests\n",
    "from bs4 import BeautifulSoup\n",
    "import pandas as pd\n",
    "\n",
    "# Step 1: Load the HTML content\n",
    "url = \"https://cf-courses-data.s3.us.cloud-object-storage.appdomain.cloud/IBM-DA0321EN-SkillsNetwork/labs/datasets/Programming_Languages.html\"\n",
    "response = requests.get(url)\n",
    "soup = BeautifulSoup(response.content, \"html.parser\")\n",
    "\n",
    "# Step 2: Locate the table\n",
    "table = soup.find('table')\n",
    "if table is None:\n",
    "    raise ValueError(\"Không tìm thấy bảng trong HTML.\")\n",
    "\n",
    "# Step 3: Extract the data\n",
    "language_list = []\n",
    "for row in table.find_all('tr')[1:]:  # Skip header\n",
    "    cols = row.find_all('td')\n",
    "    if len(cols) >= 4:\n",
    "        language = cols[1].get_text(strip=True)\n",
    "        salary = cols[3].get_text(strip=True)\n",
    "        language_list.append([language, salary])\n",
    "\n",
    "# Step 4: Convert to DataFrame\n",
    "df_lang = pd.DataFrame(language_list, columns=['Language', 'Average Annual Salary'])\n",
    "\n",
    "# Step 5: Optional - Save to CSV\n",
    "df_lang.to_csv(\"popular-languages.csv\", index=False)\n",
    "\n",
    "# Step 6: Display result\n",
    "print(df_lang)"
   ]
  }
 ],
 "metadata": {
  "kernelspec": {
   "display_name": "Python",
   "language": "python",
   "name": "conda-env-python-py"
  },
  "language_info": {
   "codemirror_mode": {
    "name": "ipython",
    "version": 3
   },
   "file_extension": ".py",
   "mimetype": "text/x-python",
   "name": "python",
   "nbconvert_exporter": "python",
   "pygments_lexer": "ipython3",
   "version": "3.7.12"
  }
 },
 "nbformat": 4,
 "nbformat_minor": 5
}
